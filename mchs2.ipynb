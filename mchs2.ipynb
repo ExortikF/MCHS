{
 "cells": [
  {
   "cell_type": "code",
   "id": "initial_id",
   "metadata": {
    "collapsed": true,
    "ExecuteTime": {
     "end_time": "2024-05-18T12:19:22.945861Z",
     "start_time": "2024-05-18T12:19:22.940861Z"
    }
   },
   "source": [
    "import torch\n",
    "import torch.nn as nn\n",
    "import torch.optim as optim\n",
    "from torchvision import datasets, transforms, models\n",
    "from torch.utils.data import DataLoader\n",
    "import torch.nn.functional as F\n",
    "import os\n",
    "import random\n",
    "from sklearn.model_selection import train_test_split\n",
    "from torchvision.io import read_image\n",
    "from PIL import Image\n",
    "from tqdm import tqdm\n",
    "from PIL import ImageFile\n",
    "ImageFile.LOAD_TRUNCATED_IMAGES = True\n",
    "import matplotlib.pyplot as plt"
   ],
   "outputs": [],
   "execution_count": 47
  },
  {
   "metadata": {
    "ExecuteTime": {
     "end_time": "2024-05-18T12:19:23.676525Z",
     "start_time": "2024-05-18T12:19:23.671525Z"
    }
   },
   "cell_type": "code",
   "source": [
    "class ToRGB(object):\n",
    "    def __call__(self, img):\n",
    "        img = img.convert('RGB')\n",
    "        return img"
   ],
   "id": "eed941ec40c582bf",
   "outputs": [],
   "execution_count": 48
  },
  {
   "metadata": {
    "ExecuteTime": {
     "end_time": "2024-05-18T12:19:24.374296Z",
     "start_time": "2024-05-18T12:19:24.353297Z"
    }
   },
   "cell_type": "code",
   "source": [
    "transform_train = transforms.Compose([\n",
    "    ToRGB(),  # Применяем наш класс для преобразования изображений\n",
    "    transforms.Resize((224, 224)),  # Изменение размера изображений\n",
    "    transforms.RandomHorizontalFlip(),  # Случайное горизонтальное отражение\n",
    "    transforms.RandomRotation(15),  # Случайная ротация\n",
    "    transforms.ColorJitter(brightness=0.2, contrast=0.2, saturation=0.2, hue=0.2),  # Случайные изменения яркости, контраста и насыщенности\n",
    "    transforms.ToTensor(),  # Преобразование изображений в тензоры\n",
    "    transforms.Normalize(mean=[0.485, 0.456, 0.406], std=[0.229, 0.224, 0.225])  # Нормализация\n",
    "])\n",
    "\n",
    "transform_val_test = transforms.Compose([\n",
    "    ToRGB(),\n",
    "    transforms.Resize((224, 224)),\n",
    "    transforms.ToTensor(),\n",
    "    transforms.Normalize(mean=[0.485, 0.456, 0.406], std=[0.229, 0.224, 0.225])\n",
    "])"
   ],
   "id": "881916febe4f0d86",
   "outputs": [],
   "execution_count": 49
  },
  {
   "metadata": {
    "ExecuteTime": {
     "end_time": "2024-05-18T12:19:25.205298Z",
     "start_time": "2024-05-18T12:19:25.195299Z"
    }
   },
   "cell_type": "code",
   "source": [
    "root_dir = r'C:\\Users\\home\\Desktop\\train_minprirodi_Parnokopitnie'\n",
    "categories = ['kosulya', 'kabarga', 'olen']"
   ],
   "id": "c531894165bc7071",
   "outputs": [],
   "execution_count": 50
  },
  {
   "metadata": {
    "ExecuteTime": {
     "end_time": "2024-05-18T12:19:25.943299Z",
     "start_time": "2024-05-18T12:19:25.935299Z"
    }
   },
   "cell_type": "code",
   "source": [
    "# Пустые множества для хранения уникальных путей и меток\n",
    "all_images = set()\n",
    "all_labels = []\n",
    "\n",
    "# Функция для проверки изображения\n",
    "def is_valid_image(file_path):\n",
    "    try:\n",
    "        with Image.open(file_path) as img:\n",
    "            img.verify()  # Проверка целостности изображения\n",
    "        return True\n",
    "    except (IOError, OSError):\n",
    "        return False"
   ],
   "id": "6f0dadbfca0fce9",
   "outputs": [],
   "execution_count": 51
  },
  {
   "metadata": {
    "ExecuteTime": {
     "end_time": "2024-05-18T12:19:29.190855Z",
     "start_time": "2024-05-18T12:19:26.491172Z"
    }
   },
   "cell_type": "code",
   "source": [
    "for label, category in enumerate(categories):\n",
    "    category_dir = os.path.join(root_dir, category)\n",
    "    for file_name in os.listdir(category_dir):\n",
    "        file_path = os.path.join(category_dir, file_name)\n",
    "        if file_path.endswith(('jpg', 'jpeg', 'png')) and is_valid_image(file_path):\n",
    "            all_images.add(file_path)\n",
    "            all_labels.append(label)\n"
   ],
   "id": "6f20fde17b2cada9",
   "outputs": [],
   "execution_count": 52
  },
  {
   "metadata": {
    "ExecuteTime": {
     "end_time": "2024-05-18T12:19:29.220519Z",
     "start_time": "2024-05-18T12:19:29.192756Z"
    }
   },
   "cell_type": "code",
   "source": [
    "all_images = list(all_images)\n",
    "\n",
    "# Разделение данных на тренировочный, валидационный и тестовый наборы\n",
    "train_images, test_images, train_labels, test_labels = train_test_split(all_images, all_labels, test_size=0.2, stratify=all_labels, random_state=42)\n",
    "train_images, val_images, train_labels, val_labels = train_test_split(train_images, train_labels, test_size=0.25, stratify=train_labels, random_state=42)"
   ],
   "id": "44bab3a91a92ea8a",
   "outputs": [],
   "execution_count": 53
  },
  {
   "metadata": {
    "ExecuteTime": {
     "end_time": "2024-05-18T12:19:31.537349Z",
     "start_time": "2024-05-18T12:19:31.516295Z"
    }
   },
   "cell_type": "code",
   "source": [
    "class CustomDataset(torch.utils.data.Dataset):\n",
    "    def __init__(self, images, labels, transform=None):\n",
    "        self.images = images\n",
    "        self.labels = labels\n",
    "        self.transform = transform\n",
    "    \n",
    "    def __len__(self):\n",
    "        return len(self.images)\n",
    "    \n",
    "    def __getitem__(self, idx):\n",
    "        image_path = self.images[idx]\n",
    "        try:\n",
    "            image = Image.open(image_path)\n",
    "            image.verify()  # Проверка целостности изображения\n",
    "            image = Image.open(image_path)  # Переоткрытие изображения после проверки\n",
    "        except (IOError, OSError):\n",
    "            print(f\"Warning: Cannot identify image file {image_path}. Skipping.\")\n",
    "            return None, None\n",
    "        label = self.labels[idx]\n",
    "        \n",
    "        if self.transform:\n",
    "            image = self.transform(image)\n",
    "        \n",
    "        return image, label\n",
    "\n",
    "# Создание датасетов с трансформациями\n",
    "train_dataset = CustomDataset(train_images, train_labels, transform=transform_train)\n",
    "val_dataset = CustomDataset(val_images, val_labels, transform=transform_val_test)\n",
    "test_dataset = CustomDataset(test_images, test_labels, transform=transform_val_test)\n",
    "\n",
    "# Функция для удаления None из батча данных\n",
    "def collate_fn(batch):\n",
    "    batch = list(filter(lambda x: x[0] is not None, batch))\n",
    "    return torch.utils.data.dataloader.default_collate(batch)\n",
    "\n",
    "train_loader = DataLoader(train_dataset, batch_size=32, shuffle=True, collate_fn=collate_fn)\n",
    "val_loader = DataLoader(val_dataset, batch_size=32, shuffle=False, collate_fn=collate_fn)\n",
    "test_loader = DataLoader(test_dataset, batch_size=32, shuffle=False, collate_fn=collate_fn)"
   ],
   "id": "1567e0d71702d5d6",
   "outputs": [],
   "execution_count": 54
  },
  {
   "metadata": {
    "ExecuteTime": {
     "end_time": "2024-05-18T12:19:54.656102Z",
     "start_time": "2024-05-18T12:19:32.782372Z"
    }
   },
   "cell_type": "code",
   "source": [
    "# Загрузка предобученной модели ResNet18\n",
    "model = models.resnet50(pretrained=True)\n",
    "\n",
    "# Замена последнего слоя на новый с правильным числом выходов\n",
    "num_ftrs = model.fc.in_features\n",
    "model.fc = nn.Linear(num_ftrs, len(categories))\n",
    "\n",
    "# Перенос модели на устройство (CPU или GPU)\n",
    "device = torch.device(\"cuda:0\" if torch.cuda.is_available() else \"cpu\")\n",
    "model = model.to(device)\n",
    "\n",
    "# Определение функции потерь и оптимизатора\n",
    "criterion = nn.CrossEntropyLoss()\n",
    "optimizer = optim.Adam(model.parameters(), lr=0.0001)\n"
   ],
   "id": "4bb1539c49bfe695",
   "outputs": [
    {
     "name": "stderr",
     "output_type": "stream",
     "text": [
      "C:\\Users\\home\\AppData\\Local\\Programs\\Python\\Python39\\lib\\site-packages\\torchvision\\models\\_utils.py:208: UserWarning: The parameter 'pretrained' is deprecated since 0.13 and may be removed in the future, please use 'weights' instead.\n",
      "  warnings.warn(\n",
      "C:\\Users\\home\\AppData\\Local\\Programs\\Python\\Python39\\lib\\site-packages\\torchvision\\models\\_utils.py:223: UserWarning: Arguments other than a weight enum or `None` for 'weights' are deprecated since 0.13 and may be removed in the future. The current behavior is equivalent to passing `weights=ResNet50_Weights.IMAGENET1K_V1`. You can also use `weights=ResNet50_Weights.DEFAULT` to get the most up-to-date weights.\n",
      "  warnings.warn(msg)\n",
      "Downloading: \"https://download.pytorch.org/models/resnet50-0676ba61.pth\" to C:\\Users\\home/.cache\\torch\\hub\\checkpoints\\resnet50-0676ba61.pth\n",
      "100%|██████████| 97.8M/97.8M [00:20<00:00, 4.88MB/s]\n"
     ]
    }
   ],
   "execution_count": 55
  },
  {
   "metadata": {
    "jupyter": {
     "is_executing": true
    },
    "ExecuteTime": {
     "start_time": "2024-05-18T12:19:57.742384Z"
    }
   },
   "cell_type": "code",
   "source": [
    "num_epochs = 20  # Установите нужное количество эпох\n",
    "\n",
    "for epoch in range(num_epochs):\n",
    "    model.train()  # Переводим модель в режим обучения\n",
    "    running_loss = 0.0  # Обнуляем текущее значение функции потерь\n",
    "    \n",
    "    # Проходим по тренировочному набору данных\n",
    "    for inputs, labels in (pbar := tqdm(train_loader)):\n",
    "        inputs, labels = inputs.to(device), labels.to(device)  # Передаем данные на устройство для обучения\n",
    "        \n",
    "        optimizer.zero_grad()  # Обнуляем градиенты параметров\n",
    "        \n",
    "        outputs = model(inputs)  # Прямой проход через модель\n",
    "        \n",
    "        loss = criterion(outputs, labels)  # Вычисляем значение функции потерь\n",
    "        loss.backward()  # Обратное распространение ошибки\n",
    "        optimizer.step()  # Обновление весов модели\n",
    "        \n",
    "        running_loss += loss.item() * inputs.size(0)  # Обновляем значение функции потерь\n",
    "    \n",
    "    # Выводим среднее значение функции потерь для эпохи\n",
    "    train_loss = running_loss / len(train_loader.dataset)\n",
    "    \n",
    "    # Проверяем модель на валидационном наборе данных\n",
    "    model.eval()  # Переводим модель в режим оценки\n",
    "    val_loss = 0.0\n",
    "    correct = 0\n",
    "    total = 0\n",
    "    \n",
    "    # Отключаем вычисление градиентов\n",
    "    with torch.no_grad():\n",
    "        for inputs, labels in (pbar := tqdm(val_loader)):\n",
    "            inputs, labels = inputs.to(device), labels.to(device)  # Передаем данные на устройство для обучения\n",
    "            \n",
    "            outputs = model(inputs)  # Прямой проход через модель\n",
    "            \n",
    "            loss = criterion(outputs, labels)  # Вычисляем значение функции потерь\n",
    "            val_loss += loss.item() * inputs.size(0)\n",
    "            \n",
    "            _, predicted = torch.max(outputs, 1)\n",
    "            total += labels.size(0)\n",
    "            correct += (predicted == labels).sum().item()\n",
    "    \n",
    "    val_loss = val_loss / len(val_loader.dataset)\n",
    "    val_accuracy = 100 * correct / total\n",
    "    pbar.set_description(f\"loss: {val_loss:.4f}\\taccuracy: {correct:.3f}\")\n",
    "    print(f\"Epoch {epoch+1}/{num_epochs}, \"\n",
    "          f\"Training Loss: {train_loss:.4f}, \"\n",
    "          f\"Validation Loss: {val_loss:.4f}, \"\n",
    "          f\"Validation Accuracy: {val_accuracy:.2f}%\")\n"
   ],
   "id": "78530a953f32f809",
   "outputs": [
    {
     "name": "stderr",
     "output_type": "stream",
     "text": [
      " 30%|██▉       | 41/138 [06:35<15:35,  9.64s/it]"
     ]
    }
   ],
   "execution_count": null
  },
  {
   "metadata": {},
   "cell_type": "code",
   "outputs": [],
   "execution_count": null,
   "source": "",
   "id": "db7bf3225efce5ea"
  },
  {
   "metadata": {},
   "cell_type": "code",
   "outputs": [],
   "execution_count": null,
   "source": [
    "# Оценка модели на тестовом наборе данных с выводом изображений и предсказаний\n",
    "model.eval()\n",
    "test_loss = 0.0\n",
    "correct = 0\n",
    "total = 0\n",
    "\n",
    "with torch.no_grad():\n",
    "    for inputs, labels in test_loader:\n",
    "        inputs, labels = inputs.to(device), labels.to(device)\n",
    "        \n",
    "        outputs = model(inputs)\n",
    "        loss = criterion(outputs, labels)\n",
    "        \n",
    "        test_loss += loss.item() * inputs.size(0)\n",
    "        _, predicted = torch.max(outputs, 1)\n",
    "        total += labels.size(0)\n",
    "        correct += (predicted == labels).sum().item()\n",
    "\n",
    "        # Выводим изображения с предсказаниями\n",
    "        for i in range(inputs.size(0)):\n",
    "            img = inputs[i].cpu().permute(1, 2, 0).numpy()\n",
    "            img = (img * [0.229, 0.224, 0.225]) + [0.485, 0.456, 0.406]  # Де-нормализация\n",
    "            img = img.clip(0, 1)\n",
    "\n",
    "            plt.imshow(img)\n",
    "            plt.title(f\"Predicted: {categories[predicted[i]]}, Actual: {categories[labels[i]]}\")\n",
    "            plt.show()\n",
    "            print(f\"Predicted: {categories[predicted[i]]}, Actual: {categories[labels[i]]}\")\n",
    "\n",
    "test_loss = test_loss / len(test_loader.dataset)\n",
    "test_accuracy = 100 * correct / total\n",
    "\n",
    "print(f\"Test Loss: {test_loss:.4f}, Test Accuracy: {test_accuracy:.2f}%\")"
   ],
   "id": "487d4258f25bea8b"
  }
 ],
 "metadata": {
  "kernelspec": {
   "display_name": "Python 3",
   "language": "python",
   "name": "python3"
  },
  "language_info": {
   "codemirror_mode": {
    "name": "ipython",
    "version": 2
   },
   "file_extension": ".py",
   "mimetype": "text/x-python",
   "name": "python",
   "nbconvert_exporter": "python",
   "pygments_lexer": "ipython2",
   "version": "2.7.6"
  }
 },
 "nbformat": 4,
 "nbformat_minor": 5
}
